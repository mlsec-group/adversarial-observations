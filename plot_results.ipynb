{
 "cells": [
  {
   "cell_type": "code",
   "execution_count": 1,
   "metadata": {},
   "outputs": [],
   "source": [
    "import re\n",
    "import json\n",
    "import statistics\n",
    "\n",
    "from pathlib import Path\n",
    "\n",
    "import scipy.stats\n",
    "\n",
    "import numpy as np\n",
    "import matplotlib.pyplot as plt"
   ]
  },
  {
   "cell_type": "code",
   "execution_count": 2,
   "metadata": {},
   "outputs": [],
   "source": [
    "def load_data(target):\n",
    "    paths = Path(\"data/results/\").glob(f\"{target}*.json\")\n",
    "    results = {}\n",
    "    for path in paths:\n",
    "        pattern = f\"{target}_(\\\\d+.\\\\d+)eps_(\\\\d+)steps\"\n",
    "        epsilon, steps = re.fullmatch(pattern, path.stem).groups()\n",
    "        epsilon = float(epsilon)\n",
    "        if epsilon > 0.07:\n",
    "            continue\n",
    "        with open(path, 'r') as f:\n",
    "            contents = json.load(f)\n",
    "            results[epsilon] = contents\n",
    "    return results"
   ]
  },
  {
   "cell_type": "code",
   "execution_count": 3,
   "metadata": {},
   "outputs": [],
   "source": [
    "def plot_results(target):\n",
    "    results = load_data(target)\n",
    "    aggregated_results = {}\n",
    "    for epsilon in sorted(results.keys()):\n",
    "        unperturbed_results = np.asarray(results[epsilon][\"unperturbed\"])\n",
    "        for method, result in results[epsilon].items():\n",
    "            if method == \"unperturbed\":\n",
    "                continue\n",
    "            # result is list with one list per target\n",
    "            # each target contains multiple measurements for the single target\n",
    "            medians = -np.median(np.asarray(result) - unperturbed_results, axis=1)\n",
    "            mean = statistics.mean(medians)\n",
    "            if len(medians) > 1:\n",
    "                ci = 1.644850 * statistics.stdev(medians) / len(medians)**0.5\n",
    "            else:\n",
    "                ci = np.nan\n",
    "            if method not in aggregated_results:\n",
    "                aggregated_results[method] = []\n",
    "            aggregated_results[method].append((float(epsilon), mean, ci))\n",
    "\n",
    "    with plt.xkcd():\n",
    "        fig, ax = plt.subplots(1, 1, figsize=(10, 8))\n",
    "        for method, values in aggregated_results.items():\n",
    "            values = np.asarray(values)\n",
    "            epsilons = values[:, 0]\n",
    "            epsilons = np.sqrt(1 + np.square(epsilons)) - 1\n",
    "            # epsilons = 10 * np.log10(np.sqrt(1 + np.square(epsilons)))\n",
    "            mean = values[:, 1]\n",
    "            ax.plot(epsilons, mean, label=method, marker=\"+\")\n",
    "            ci = values[:, 2]\n",
    "            ci = np.nan_to_num(ci)\n",
    "            ax.fill_between(epsilons, mean - ci, mean + ci, alpha=0.2)\n",
    "        \n",
    "        # ax_n = ax.twinx()\n",
    "        # epsilons = np.asarray(list(sorted(results.keys())))\n",
    "        # epsilons = np.sqrt(1 + np.square(epsilons)) - 1\n",
    "        # ax_n.plot(epsilons, [len(results[epsilon][\"unperturbed\"]) for epsilon in sorted(results.keys())], 'k*--')\n",
    "        # ax_n.set_ylabel(\"number of samples\")\n",
    "        # ax_n.set_ylim(0)\n",
    "\n",
    "        ax.legend()\n",
    "        # ax.set_yscale('log')\n",
    "        ax.set_xscale('log')\n",
    "        ax.set_xlabel(\"Perturbation size\")\n",
    "        ax.set_ylabel(f\"{target} deviation\")\n",
    "        ax.xaxis.set_major_formatter(lambda x, _: f\"+{round(100*x, 2):.02f}%\")\n",
    "        ax.set_xticks(epsilons)\n",
    "        None\n",
    "    plt.show()"
   ]
  },
  {
   "cell_type": "code",
   "execution_count": 4,
   "metadata": {},
   "outputs": [],
   "source": [
    "plot_results(\"wind\")"
   ]
  },
  {
   "cell_type": "code",
   "execution_count": 5,
   "metadata": {},
   "outputs": [],
   "source": [
    "plot_results(\"temperature\")"
   ]
  },
  {
   "cell_type": "code",
   "execution_count": 6,
   "metadata": {},
   "outputs": [],
   "source": [
    "plot_results(\"precipitation\")"
   ]
  },
  {
   "cell_type": "code",
   "execution_count": 7,
   "metadata": {},
   "outputs": [],
   "source": [
    "def results_to_dats(target):\n",
    "    results = load_data(target)\n",
    "    aggregated_results = {}\n",
    "    for epsilon in sorted(results.keys()):\n",
    "        unperturbed_results = np.asarray(results[epsilon][\"unperturbed\"])\n",
    "        for method, result in results[epsilon].items():\n",
    "            if method == \"unperturbed\":\n",
    "                continue\n",
    "            # result is list with one list per target\n",
    "            # each target contains multiple measurements for the single target\n",
    "            medians = -np.median(np.asarray(result) - unperturbed_results, axis=1)\n",
    "            mean = statistics.mean(medians)\n",
    "            if len(medians) > 1:\n",
    "                ci = 1.644850 * statistics.stdev(medians) / len(medians)**0.5\n",
    "            else:\n",
    "                ci = np.nan\n",
    "            if method not in aggregated_results:\n",
    "                aggregated_results[method] = []\n",
    "            aggregated_results[method].append((float(epsilon), mean, ci))\n",
    "\n",
    "    for method, values in aggregated_results.items():\n",
    "        values = np.asarray(values)\n",
    "        epsilons = values[:, 0]\n",
    "        epsilons = np.sqrt(1 + np.square(epsilons)) - 1\n",
    "        mean = values[:, 1]\n",
    "        ci = values[:, 2]\n",
    "        ci = np.nan_to_num(ci)\n",
    "        print(method)\n",
    "        print(\"\\n\".join(\" \".join(map(str, t)) for t in zip(epsilons,mean,ci)))"
   ]
  },
  {
   "cell_type": "code",
   "execution_count": 8,
   "metadata": {},
   "outputs": [],
   "source": [
    "results_to_dats(\"wind\")"
   ]
  },
  {
   "cell_type": "code",
   "execution_count": 9,
   "metadata": {},
   "outputs": [],
   "source": [
    "results_to_dats(\"temperature\")"
   ]
  },
  {
   "cell_type": "code",
   "execution_count": 10,
   "metadata": {},
   "outputs": [],
   "source": [
    "results_to_dats(\"precipitation\")"
   ]
  },
  {
   "cell_type": "code",
   "execution_count": null,
   "metadata": {},
   "outputs": [],
   "source": [
    "import xarray\n",
    "from tqdm.auto import tqdm"
   ]
  },
  {
   "cell_type": "code",
   "execution_count": 93,
   "metadata": {},
   "outputs": [],
   "source": [
    "era5 = xarray.open_zarr(\"gs://weatherbench2/datasets/era5/1959-2023_01_10-wb13-6h-1440x721_with_derived_variables.zarr\")\n",
    "era5 = era5[[\"2m_temperature\", \"10m_u_component_of_wind\", \"10m_v_component_of_wind\", \"total_precipitation_12hr\"]]"
   ]
  },
  {
   "cell_type": "code",
   "execution_count": 123,
   "metadata": {},
   "outputs": [],
   "source": [
    "subsampled = era5.isel(latitude=slice(0,None,4),longitude=slice(0,None,4),time=slice(1,None,2))"
   ]
  },
  {
   "cell_type": "code",
   "execution_count": 124,
   "metadata": {},
   "outputs": [],
   "source": [
    "hours = [6, 18]\n",
    "years = list(range(1959, 2023))\n",
    "out = []\n",
    "for hour in hours:\n",
    "    datasets = []\n",
    "    for year in tqdm(years):\n",
    "        tmp = subsampled.isel(time=subsampled.time.dt.hour == hour).sel(time=str(year))\n",
    "        tmp = tmp.assign_coords(dayofyear=tmp.time.dt.dayofyear).swap_dims(\n",
    "            {'time': 'dayofyear'}\n",
    "        )\n",
    "        datasets.append(tmp)\n",
    "    ds_per_hour = xarray.concat(\n",
    "        datasets,\n",
    "        dim=xarray.DataArray(\n",
    "            np.arange(len(years)), coords={'number': np.arange(len(years))}\n",
    "        ),\n",
    "    )\n",
    "    out.append(ds_per_hour)\n",
    "out = xarray.concat(out, dim=xarray.DataArray(hours, dims=['hour']))"
   ]
  },
  {
   "cell_type": "code",
   "execution_count": 11,
   "metadata": {},
   "outputs": [],
   "source": [
    "def compute_extremes(values):\n",
    "    mean = values.mean(dim=\"number\")\n",
    "    maximums = (values - mean).max(dim=[\"dayofyear\", \"hour\"])\n",
    "    quantiles = maximums.quantile(dim=\"number\",q=[0.99,0.999,1.0])\n",
    "    return quantiles"
   ]
  },
  {
   "cell_type": "code",
   "execution_count": 12,
   "metadata": {},
   "outputs": [],
   "source": [
    "compute_extremes(out[\"2m_temperature\"]).mean(dim=[\"latitude\", \"longitude\"]).compute()"
   ]
  },
  {
   "cell_type": "code",
   "execution_count": 147,
   "metadata": {},
   "outputs": [],
   "source": [
    "compute_extremes(out[\"total_precipitation_12hr\"]).mean(dim=[\"latitude\", \"longitude\"]).compute()"
   ]
  },
  {
   "cell_type": "code",
   "execution_count": 148,
   "metadata": {},
   "outputs": [],
   "source": [
    "wind_speed = (out[\"10m_u_component_of_wind\"]**2 + out[\"10m_v_component_of_wind\"]**2)**0.5\n",
    "compute_extremes(wind_speed).mean(dim=[\"latitude\", \"longitude\"]).compute()"
   ]
  },
  {
   "cell_type": "code",
   "execution_count": 65,
   "metadata": {},
   "outputs": [],
   "source": [
    "from scipy import stats\n",
    "\n",
    "var_count = 181 * 360 * (5 + 13*6)\n",
    "def compute_intersection(target, value):\n",
    "    results = load_data(target)\n",
    "    aggregated_results = {}\n",
    "    for epsilon in sorted(results.keys()):\n",
    "        unperturbed_results = np.asarray(results[epsilon][\"unperturbed\"])\n",
    "        for method, result in results[epsilon].items():\n",
    "            if method == \"unperturbed\":\n",
    "                continue\n",
    "            # result is list with one list per target\n",
    "            # each target contains multiple measurements for the single target\n",
    "            medians = -np.median(np.asarray(result) - unperturbed_results, axis=1)\n",
    "            mean = statistics.mean(medians)\n",
    "            if len(medians) > 1:\n",
    "                ci = 1.644850 * statistics.stdev(medians) / len(medians)**0.5\n",
    "            else:\n",
    "                ci = np.nan\n",
    "            if method not in aggregated_results:\n",
    "                aggregated_results[method] = []\n",
    "            aggregated_results[method].append((float(epsilon), mean, ci))\n",
    "\n",
    "    for method, values in aggregated_results.items():\n",
    "        values = np.asarray(values)\n",
    "        epsilons = values[:, 0]\n",
    "        epsilons = np.sqrt(1 + np.square(epsilons)) - 1\n",
    "        mean = values[:, 1]\n",
    "        \n",
    "        # find intersection\n",
    "        # 1. find segment in which it will lie\n",
    "        i = 0\n",
    "        while i < len(mean) and mean[i] < value:\n",
    "            i += 1\n",
    "        # 2. linearly interpolate\n",
    "        # print(method, epsilons[i], mean[i], epsilons[i-1], mean[i-1], value)\n",
    "        if i < len(mean):\n",
    "            m = (mean[max(i, 1)] - mean[max(i-1, 0)]) / (epsilons[max(i, 1)] - epsilons[max(i-1, 0)])\n",
    "            intersection_epsilon = epsilons[i] + (value - mean[i]) / m\n",
    "        else:\n",
    "            m = (mean[-1] - mean[-2]) / (epsilons[-1] - epsilons[-2])\n",
    "            intersection_epsilon = epsilons[-1] + (value - mean[-1]) / m\n",
    "        p = 1 - stats.chi2.cdf(stats.chi2.ppf(0.99, var_count-1, var_count-1), var_count - 1, var_count - 1, scale=intersection_epsilon + 1)\n",
    "        print(method, f\"{intersection_epsilon*100:.3f}%\", p**2)"
   ]
  },
  {
   "cell_type": "code",
   "execution_count": 66,
   "metadata": {},
   "outputs": [],
   "source": [
    "compute_intersection(\"temperature\", 11.75064901)"
   ]
  },
  {
   "cell_type": "code",
   "execution_count": 67,
   "metadata": {},
   "outputs": [],
   "source": [
    "compute_intersection(\"wind\", 12.56660729)"
   ]
  },
  {
   "cell_type": "code",
   "execution_count": 68,
   "metadata": {},
   "outputs": [],
   "source": [
    "compute_intersection(\"precipitation\", 0.06293304)"
   ]
  },
  {
   "cell_type": "code",
   "execution_count": null,
   "metadata": {},
   "outputs": [],
   "source": [
    "with open(\"data/weather_evaluation_targets.json\", \"r\") as f:\n",
    "    targets = json.load(f)\n",
    "ATTACKS = [\"Ours\", \"DP-Attacker\", \"AdvDM\"]"
   ]
  },
  {
   "cell_type": "code",
   "execution_count": 246,
   "metadata": {},
   "outputs": [],
   "source": [
    "def get_per_attack(target, target_value):\n",
    "    results = load_data(target)\n",
    "    results_per_attack = {\"Ours\": [], \"DP-Attacker\": [], \"AdvDM\": []}\n",
    "    for i, target in enumerate(targets):\n",
    "        unperturbed = -np.asarray([results[epsilon][\"unperturbed\"][i] for epsilon in results.keys()])\n",
    "        lat, lon = target[\"location\"][\"latitude\"], target[\"location\"][\"longitude\"]\n",
    "        lat = round(lat)\n",
    "        lon = round(lon)\n",
    "        for attack in ATTACKS:\n",
    "            epsilons = list(results.keys())\n",
    "            epsilons = np.sqrt(1 + np.square(epsilons)) - 1\n",
    "            values = -np.asarray([results[epsilon][attack][i] for epsilon in results.keys()])\n",
    "            mean = np.median(values - unperturbed, axis=-1)\n",
    "            order = np.argsort(epsilons)\n",
    "            mean = mean[order]\n",
    "            epsilons = epsilons[order]\n",
    "            \n",
    "            # find intersection\n",
    "            # 1. find segment in which it will lie\n",
    "            i = 0\n",
    "            while i < len(mean) and mean[i] < target_value:\n",
    "                i += 1\n",
    "            # 2. linearly interpolate\n",
    "            if i < len(mean):\n",
    "                m = (mean[max(i, 1)] - mean[max(i-1, 0)]) / (epsilons[max(i, 1)] - epsilons[max(i-1, 0)])\n",
    "                intersection_epsilon = epsilons[i] + (target_value - mean[i]) / m\n",
    "            else:\n",
    "                m = (mean[-1] - mean[-2]) / (epsilons[-1] - epsilons[-2])\n",
    "                intersection_epsilon = epsilons[-1] + (target_value - mean[-1]) / m\n",
    "            results_per_attack[attack].append((lon, lat, intersection_epsilon))\n",
    "    return results_per_attack\n",
    "\n",
    "temperature_per_attack = get_per_attack(\"temperature\", 11.75064901)\n",
    "wind_per_attack = get_per_attack(\"wind\", 12.56660729)\n",
    "precipitation_per_attack = get_per_attack(\"precipitation\", 0.06293304)\n",
    "mean_ours = (\n",
    "    np.asarray(temperature_per_attack[\"Ours\"])[:, 2] +\n",
    "    np.asarray(wind_per_attack[\"Ours\"])[:, 2] +\n",
    "    np.asarray(precipitation_per_attack[\"Ours\"])[:, 2]\n",
    "    ) / 3\n",
    "lats = np.asarray(temperature_per_attack[\"Ours\"])[:, 1]\n",
    "\n",
    "plot(None, lats, mean_ours)\n",
    "plt.show()"
   ]
  },
  {
   "cell_type": "code",
   "execution_count": 247,
   "metadata": {},
   "outputs": [],
   "source": [
    "print(\"\\n\".join(f\"{x} {y}\" for x,y in zip(np.abs(lats), mean_ours)))"
   ]
  }
 ],
 "metadata": {
  "kernelspec": {
   "display_name": "Python 3 (ipykernel)",
   "language": "python",
   "name": "python3"
  }
 },
 "nbformat": 4,
 "nbformat_minor": 2
}
