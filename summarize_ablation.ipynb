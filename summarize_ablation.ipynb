{
 "cells": [
  {
   "cell_type": "code",
   "execution_count": 81,
   "id": "1f63dc8c",
   "metadata": {},
   "outputs": [],
   "source": [
    "import re\n",
    "import json\n",
    "import statistics\n",
    "\n",
    "from pathlib import Path\n",
    "\n",
    "import numpy as np"
   ]
  },
  {
   "cell_type": "code",
   "execution_count": 3,
   "id": "127c71c4",
   "metadata": {},
   "outputs": [],
   "source": [
    "def load_original_data(target):\n",
    "    paths = Path(\"data/results/\").glob(f\"{target}*.json\")\n",
    "    results = {}\n",
    "    for path in paths:\n",
    "        pattern = f\"{target}_(\\\\d+.\\\\d+)eps_(\\\\d+)steps\"\n",
    "        epsilon, steps = re.fullmatch(pattern, path.stem).groups()\n",
    "        epsilon = float(epsilon)\n",
    "        if epsilon > 0.07:\n",
    "            continue\n",
    "        with open(path, 'r') as f:\n",
    "            contents = json.load(f)\n",
    "            results[epsilon] = contents\n",
    "    return results"
   ]
  },
  {
   "cell_type": "code",
   "execution_count": null,
   "id": "cb044afa",
   "metadata": {},
   "outputs": [],
   "source": [
    "def load_ablation_data(target):\n",
    "    paths = Path(\"data/results/\").glob(f\"ablation_{target}*.json\")\n",
    "    results = {}\n",
    "    for path in paths:\n",
    "        pattern = f\"ablation_{target}_(\\\\d+.\\\\d+)eps_(\\\\d+)steps\"\n",
    "        epsilon, steps = re.fullmatch(pattern, path.stem).groups()\n",
    "        epsilon = float(epsilon)\n",
    "        with open(path, 'r') as f:\n",
    "            contents = json.load(f)\n",
    "            results[epsilon] = contents\n",
    "    return results"
   ]
  },
  {
   "cell_type": "code",
   "execution_count": 5,
   "id": "178e3e2f",
   "metadata": {},
   "outputs": [
    {
     "data": {
      "text/plain": [
       "{0.05: {'w/o approx': [[-13.877053260803223,\n",
       "    -15.082160949707031,\n",
       "    -17.703166961669922,\n",
       "    -10.44516658782959,\n",
       "    -14.186493873596191],\n",
       "   [-12.078812599182129,\n",
       "    -8.668627738952637,\n",
       "    -9.741235733032227,\n",
       "    -7.720380783081055,\n",
       "    -11.02860164642334]],\n",
       "  'w/o steps': [[-16.39448356628418,\n",
       "    -16.7823543548584,\n",
       "    -20.8136043548584,\n",
       "    -17.182479858398438,\n",
       "    -18.22907257080078],\n",
       "   [-10.290508270263672,\n",
       "    -10.737956047058105,\n",
       "    -11.235365867614746,\n",
       "    -10.037707328796387,\n",
       "    -11.324209213256836]],\n",
       "  'unperturbed': [[-2.3612241744995117,\n",
       "    -1.455011010169983,\n",
       "    -3.7872977256774902,\n",
       "    -2.1405563354492188,\n",
       "    -3.3234262466430664],\n",
       "   [-0.6483078002929688,\n",
       "    -1.1738452911376953,\n",
       "    -1.2550204992294312,\n",
       "    -0.07598818093538284,\n",
       "    -1.4091135263442993]]},\n",
       " 0.03: {'w/o approx': [[-4.303272724151611,\n",
       "    -4.067123889923096,\n",
       "    -6.8184590339660645,\n",
       "    -3.9630863666534424,\n",
       "    -5.265993595123291],\n",
       "   [-4.191310405731201,\n",
       "    -4.891841411590576,\n",
       "    -5.125476360321045,\n",
       "    -3.946016311645508,\n",
       "    -5.169989109039307]],\n",
       "  'w/o steps': [[-9.850287437438965,\n",
       "    -10.048368453979492,\n",
       "    -13.671889305114746,\n",
       "    -9.989980697631836,\n",
       "    -11.691283226013184],\n",
       "   [-5.539707183837891,\n",
       "    -6.488619804382324,\n",
       "    -6.916276931762695,\n",
       "    -5.846078395843506,\n",
       "    -6.5970611572265625]],\n",
       "  'unperturbed': [[-2.3612241744995117,\n",
       "    -1.455011010169983,\n",
       "    -3.7872977256774902,\n",
       "    -2.1405563354492188,\n",
       "    -3.3234262466430664],\n",
       "   [-0.6483078002929688,\n",
       "    -1.1738452911376953,\n",
       "    -1.2550204992294312,\n",
       "    -0.07598818093538284,\n",
       "    -1.4091135263442993]]}}"
      ]
     },
     "execution_count": 5,
     "metadata": {},
     "output_type": "execute_result"
    }
   ],
   "source": [
    "load_ablation_data(\"wind\")"
   ]
  },
  {
   "cell_type": "code",
   "execution_count": 6,
   "id": "a2eca18a",
   "metadata": {},
   "outputs": [],
   "source": [
    "def match_ablation_and_original(target, offset):\n",
    "    original = load_original_data(target)\n",
    "    ablation = load_ablation_data(target)\n",
    "    combined = {}\n",
    "    for epsilon in ablation.keys():\n",
    "        combined[epsilon] = {}\n",
    "        for attack, values in ablation[epsilon].items():\n",
    "            combined[epsilon][\"ablation \"+attack] = values\n",
    "        length = min(len(v) for v in combined[epsilon].values())\n",
    "        for attack, values in original[epsilon].items():\n",
    "            combined[epsilon][attack] = values[offset:(offset+length)]\n",
    "    return combined"
   ]
  },
  {
   "cell_type": "code",
   "execution_count": 48,
   "id": "2de5543b",
   "metadata": {},
   "outputs": [
    {
     "data": {
      "text/plain": [
       "dict_keys(['Ours', 'AdvDM', 'DP-Attacker', 'unperturbed'])"
      ]
     },
     "execution_count": 48,
     "metadata": {},
     "output_type": "execute_result"
    }
   ],
   "source": [
    "load_original_data(\"wind\")[0.03].keys()"
   ]
  },
  {
   "cell_type": "code",
   "execution_count": 88,
   "id": "f258f03c",
   "metadata": {},
   "outputs": [],
   "source": [
    "def summarize_ablation(target, offset):\n",
    "    combined = match_ablation_and_original(target, offset)\n",
    "    results = {\"w/o steps\": [], \"w/o approx\": [], \"w/o both\": []}\n",
    "    for epsilon in combined.keys():\n",
    "        unperturbed = -np.asarray(combined[epsilon][\"unperturbed\"])\n",
    "        abl_unperturbed = -np.asarray(combined[epsilon][\"ablation unperturbed\"])\n",
    "        assert np.allclose(unperturbed, abl_unperturbed, atol=1e-2, rtol=1e-4), np.max(np.abs(unperturbed - abl_unperturbed))\n",
    "\n",
    "        our_deviations = np.median(-np.asarray(combined[epsilon][\"Ours\"]) - unperturbed, axis=-1)\n",
    "        baseline_deviations = np.median(-np.asarray(combined[epsilon][\"DP-Attacker\"]) - unperturbed, axis=-1)\n",
    "        wo_approx_deviations = np.median(-np.asarray(combined[epsilon][\"ablation w/o approx\"]) - abl_unperturbed, axis=-1)\n",
    "        wo_steps_deviations = np.median(-np.asarray(combined[epsilon][\"ablation w/o steps\"]) - abl_unperturbed, axis=-1)\n",
    "        \n",
    "        results[\"w/o both\"].extend((baseline_deviations / our_deviations).tolist())\n",
    "        results[\"w/o approx\"].extend((wo_approx_deviations / our_deviations).tolist())\n",
    "        results[\"w/o steps\"].extend((wo_steps_deviations / our_deviations).tolist())\n",
    "    aggregated = {}\n",
    "    for k, vs in results.items():\n",
    "        mean = round(sum(vs)/len(vs)*100, 2)\n",
    "        ci = 1.644850 * statistics.stdev(vs) / len(vs)**0.5\n",
    "        ci = round(ci*100, 2)\n",
    "        aggregated[k] = (mean, ci, len(vs))\n",
    "    return aggregated"
   ]
  },
  {
   "cell_type": "code",
   "execution_count": 97,
   "id": "6bdbbd79",
   "metadata": {},
   "outputs": [
    {
     "data": {
      "text/plain": [
       "({'w/o steps': (89.26, 2.45, 68),\n",
       "  'w/o approx': (59.29, 4.2, 68),\n",
       "  'w/o both': (56.0, 2.96, 68)},\n",
       " {'w/o steps': (93.07, 1.42, 68),\n",
       "  'w/o approx': (71.57, 3.12, 68),\n",
       "  'w/o both': (62.85, 3.27, 68)},\n",
       " {'w/o steps': (54.42, 6.5, 64),\n",
       "  'w/o approx': (33.91, 4.68, 64),\n",
       "  'w/o both': (18.36, 4.26, 64)})"
      ]
     },
     "execution_count": 97,
     "metadata": {},
     "output_type": "execute_result"
    }
   ],
   "source": [
    "wind = summarize_ablation(\"wind\", 0)\n",
    "temperature = summarize_ablation(\"temperature\", 34)\n",
    "precipitation = summarize_ablation(\"precipitation\", 68)\n",
    "wind, temperature, precipitation"
   ]
  }
 ],
 "metadata": {
  "kernelspec": {
   "display_name": "Python 3 (ipykernel)",
   "language": "python",
   "name": "python3"
  }
 },
 "nbformat": 4,
 "nbformat_minor": 5
}
