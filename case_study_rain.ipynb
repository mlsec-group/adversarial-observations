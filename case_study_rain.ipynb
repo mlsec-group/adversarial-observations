{
 "cells": [
  {
   "cell_type": "code",
   "execution_count": null,
   "metadata": {},
   "outputs": [],
   "source": [
    "import os\n",
    "os.environ[\"CUDA_VISIBLE_DEVICES\"] = \"2\""
   ]
  },
  {
   "cell_type": "code",
   "execution_count": 2,
   "metadata": {},
   "outputs": [],
   "source": [
    "import functools\n",
    "\n",
    "from datetime import timedelta\n",
    "\n",
    "import jax\n",
    "import xarray\n",
    "\n",
    "import numpy as np\n",
    "import jax.numpy as jnp\n",
    "\n",
    "from graphcast import xarray_jax\n",
    "\n",
    "from data_loading import load_data\n",
    "from model_running import (\n",
    "    multi_step_forward_jit, forward_fn_jitted, build_static_data_selector,\n",
    "    approx_forward_fn_jitted, task_config,\n",
    ")\n",
    "from attacks import add_perturbation, our_attack"
   ]
  },
  {
   "cell_type": "code",
   "execution_count": 22,
   "metadata": {},
   "outputs": [],
   "source": [
    "import json\n",
    "\n",
    "with open(\"data/geoBoundariesCGAZ_ADM0.geojson\", \"r\") as f:\n",
    "    boundary_data = json.load(f)"
   ]
  },
  {
   "cell_type": "code",
   "execution_count": 25,
   "metadata": {},
   "outputs": [],
   "source": [
    "def smooth(points):\n",
    "    new_points = [points[0]]\n",
    "    def distance(p1, p2):\n",
    "        return ((p1[0]-p2[0])**2 + (p1[1]-p2[1])**2)**0.5\n",
    "    for point in points[1:]:\n",
    "        if distance(point, new_points[-1]) < 0.2:\n",
    "            continue\n",
    "        new_points.append(point)\n",
    "    return new_points\n",
    "\n",
    "def to_svg_path(points):\n",
    "    assert len(points) > 1\n",
    "    s = f\"M{points[0][0]} {-points[0][1]}\"\n",
    "    for point in points[1:]:\n",
    "        s += f\" L{point[0]} {-point[1]}\"\n",
    "    s += \" Z\"\n",
    "    return f'<path d=\"{s}\" stroke=\"black\" fill=\"#eee\" fill-opacity=\"1.0\"/>'\n",
    "\n",
    "def filter_boundaries(feature):\n",
    "    def is_in_bounds(coord):\n",
    "        lon, lat = coord\n",
    "        # 5, 30, 65, 100\n",
    "        if lat < -10 or lat > 80:\n",
    "            return False\n",
    "        if lon < 50 or lon > 120:\n",
    "            return False\n",
    "        return True\n",
    "    return list(filter(\n",
    "        lambda boundary: len(boundary) > 5 and any(is_in_bounds(coord) for coord in boundary),\n",
    "        (\n",
    "            smooth(boundary) if feature[\"geometry\"][\"type\"] == \"Polygon\" else smooth(boundary[0])\n",
    "            for boundary in feature[\"geometry\"][\"coordinates\"])\n",
    "    ))"
   ]
  },
  {
   "cell_type": "code",
   "execution_count": 26,
   "metadata": {},
   "outputs": [],
   "source": [
    "all_paths = sum(\n",
    "    (\n",
    "        list(\n",
    "            map(to_svg_path, filter_boundaries(boundaries)\n",
    "            )\n",
    "        )\n",
    "        for boundaries in boundary_data[\"features\"]\n",
    "    ), start=[]\n",
    ")"
   ]
  },
  {
   "cell_type": "code",
   "execution_count": 71,
   "metadata": {},
   "outputs": [],
   "source": [
    "def general_loss_fn(\n",
    "        rng,\n",
    "        inputs,\n",
    "        targets,\n",
    "        forcings,\n",
    "        forward_fn,\n",
    "        variable_selection_fn,\n",
    "        region_selection_fn,\n",
    "    ):\n",
    "    denoised_predictions = multi_step_forward_jit(\n",
    "        rng,\n",
    "        inputs,\n",
    "        targets,\n",
    "        forcings,\n",
    "        forward_fn\n",
    "    ).isel(time=-1)\n",
    "\n",
    "    # select target variable\n",
    "    target = variable_selection_fn(denoised_predictions)\n",
    "\n",
    "    # select target region\n",
    "    target = xarray_jax.unwrap_data(target, require_jax=True)\n",
    "    target = region_selection_fn(target)\n",
    "\n",
    "    loss = jnp.mean(target)\n",
    "    return loss\n",
    "\n",
    "# no jit, as it does not provide a speedup in this case\n",
    "precise_loss_fn = lambda rng, i, t, f, s, v: general_loss_fn(rng, i, t, f, forward_fn_jitted, v, s)\n",
    "\n",
    "def adv_grads_fn(rng, inputs, targets, forcings, approximation_steps, variable_selection_fn, region_selection_fn):\n",
    "    forward_fn = functools.partial(approx_forward_fn_jitted, approximation_steps=approximation_steps)\n",
    "    def _aux(rng, i, t, f):\n",
    "        loss = general_loss_fn(\n",
    "            rng, i, t, f,\n",
    "            forward_fn=forward_fn,\n",
    "            variable_selection_fn=variable_selection_fn,\n",
    "            region_selection_fn=region_selection_fn,\n",
    "        )\n",
    "        return loss\n",
    "\n",
    "    loss, grads = jax.value_and_grad(\n",
    "        _aux,\n",
    "        argnums=1,\n",
    "    )(rng, inputs, targets, forcings)\n",
    "    return loss, grads\n",
    "adv_grads_fn_jitted = jax.jit(adv_grads_fn, static_argnums=(4,5,6))"
   ]
  },
  {
   "cell_type": "code",
   "execution_count": 4,
   "metadata": {},
   "outputs": [],
   "source": [
    "era5 = xarray.open_zarr(\"gs://weatherbench2/datasets/era5/1959-2023_01_10-wb13-6h-1440x721_with_derived_variables.zarr\")"
   ]
  },
  {
   "cell_type": "code",
   "execution_count": 5,
   "metadata": {},
   "outputs": [],
   "source": [
    "era5 = era5.isel(time=slice(1, None, 2))"
   ]
  },
  {
   "cell_type": "code",
   "execution_count": 10,
   "metadata": {},
   "outputs": [],
   "source": [
    "single_sample = era5.isel(time=0).compute()\n",
    "single_sample = single_sample.rename_dims(dict(latitude=\"lat\", longitude=\"lon\"))\n",
    "single_sample = single_sample.rename_vars(dict(latitude=\"lat\", longitude=\"lon\"))\n",
    "single_sample = single_sample.isel(lat=slice(None, None, -1))"
   ]
  },
  {
   "cell_type": "code",
   "execution_count": 6,
   "metadata": {},
   "outputs": [],
   "source": [
    "inputs, targets, forcings = load_data(era5, \"2020-05-18T06:00:00\", task_config, lead_time=timedelta(days=2.5))"
   ]
  },
  {
   "cell_type": "code",
   "execution_count": 7,
   "metadata": {},
   "outputs": [],
   "source": [
    "import matplotlib.pyplot as plt"
   ]
  },
  {
   "cell_type": "code",
   "execution_count": 50,
   "metadata": {},
   "outputs": [
    {
     "data": {
      "text/plain": [
       "Array(110.94387, dtype=float32)"
      ]
     },
     "execution_count": 50,
     "metadata": {},
     "output_type": "execute_result"
    },
    {
     "data": {
      "image/png": "[encoded data removed]",
      "text/plain": [
       "<Figure size 1600x1000 with 2 Axes>"
      ]
     },
     "metadata": {},
     "output_type": "display_data"
    }
   ],
   "source": [
    "unperturbed_rain = targets.isel(batch=0, time=-1)[\"total_precipitation_12hr\"].data\n",
    "selected_rain = build_static_data_selector(inputs.coords, 5, 30, 65, 100)(unperturbed_rain) * 1000\n",
    "selected_mask = build_static_data_selector(single_sample.coords, 5, 30, 65, 100)(single_sample[\"land_sea_mask\"].data)[::-1, ...]\n",
    "fig, ax = plt.subplots(figsize=(16,10))\n",
    "# ax.imshow(selected_mask, extent=[0, 100-65, 0, 35-5])\n",
    "im = ax.imshow(selected_rain, cmap=\"Blues\", alpha=0.9, vmin=0, vmax=120)\n",
    "ax.invert_yaxis()\n",
    "fig.colorbar(im)\n",
    "np.max(selected_rain)"
   ]
  },
  {
   "cell_type": "code",
   "execution_count": 83,
   "metadata": {},
   "outputs": [],
   "source": [
    "variable_selector = lambda x: x[\"total_precipitation_12hr\"]\n",
    "region_selection_fn = build_static_data_selector(inputs.coords, 20, 25, 87, 92)\n",
    "\n",
    "grads_fn = functools.partial(\n",
    "    adv_grads_fn_jitted,\n",
    "    region_selection_fn=region_selection_fn,\n",
    "    variable_selection_fn=variable_selector\n",
    ")"
   ]
  },
  {
   "cell_type": "code",
   "execution_count": 84,
   "metadata": {},
   "outputs": [
    {
     "name": "stdout",
     "output_type": "stream",
     "text": [
      "0 0.014228106\n",
      "1 0.011664225\n",
      "2 0.0002816447\n",
      "3 0.00766982\n",
      "4 1.0742701e-05\n",
      "5 0.0033477182\n",
      "6 0.0001492118\n",
      "7 -3.2586333e-05\n",
      "8 -7.463218e-05\n",
      "9 6.9215464e-05\n",
      "10 0.003293848\n",
      "11 9.166473e-06\n",
      "12 3.5081488e-05\n",
      "13 2.5752039e-08\n",
      "14 -9.215545e-05\n",
      "15 -0.00012221819\n",
      "16 -0.00015179334\n",
      "17 -0.000110450084\n",
      "18 -0.00014925298\n",
      "19 -0.00016565039\n",
      "20 -2.845138e-05\n",
      "21 -0.00017598816\n",
      "22 -0.00017676309\n",
      "23 -2.249721e-05\n",
      "24 -0.00014957268\n",
      "25 -9.8468656e-05\n",
      "26 -0.0001469314\n",
      "27 -0.00018951457\n",
      "28 -0.00016892554\n",
      "29 -0.00020673603\n",
      "30 0.010052097\n",
      "31 -0.00015879511\n",
      "32 -0.000162297\n",
      "33 0.0024974993\n",
      "34 -0.00021316097\n",
      "35 -2.4101148e-05\n",
      "36 -0.00018900896\n",
      "37 -0.00019453985\n",
      "38 0.0005684919\n",
      "39 -0.00018834391\n",
      "40 -0.00014343217\n",
      "41 -0.00015639127\n",
      "42 -0.00016328343\n",
      "43 0.0073397146\n",
      "44 -0.0001824552\n",
      "45 -7.813444e-06\n",
      "46 0.0023160614\n",
      "47 0.0005407851\n",
      "48 -0.00021046467\n",
      "49 7.0266164e-05\n"
     ]
    }
   ],
   "source": [
    "perturbation = our_attack(\n",
    "    inputs,\n",
    "    targets,\n",
    "    forcings,\n",
    "    0.07,\n",
    "    grads_fn,\n",
    "    maxiter=50,\n",
    "    do_log=True,\n",
    ")"
   ]
  },
  {
   "cell_type": "code",
   "execution_count": 85,
   "metadata": {},
   "outputs": [],
   "source": [
    "denoised_predictions = multi_step_forward_jit(\n",
    "    jax.random.PRNGKey(1234567890),\n",
    "    add_perturbation(inputs, perturbation),\n",
    "    targets,\n",
    "    forcings,\n",
    "    forward_fn_jitted,\n",
    ")"
   ]
  },
  {
   "cell_type": "code",
   "execution_count": 98,
   "metadata": {},
   "outputs": [
    {
     "data": {
      "text/plain": [
       "Array(35.671837, dtype=float32)"
      ]
     },
     "execution_count": 98,
     "metadata": {},
     "output_type": "execute_result"
    },
    {
     "data": {
      "image/png": "[encoded data removed]",
      "text/plain": [
       "<Figure size 1600x1000 with 2 Axes>"
      ]
     },
     "metadata": {},
     "output_type": "display_data"
    }
   ],
   "source": [
    "perturbed_rain = xarray_jax.unwrap_data(denoised_predictions.isel(batch=0, time=-1)[\"total_precipitation_12hr\"])\n",
    "selected_rain = build_static_data_selector(inputs.coords, 5, 30, 65, 100)(perturbed_rain) * 1000\n",
    "selected_mask = build_static_data_selector(single_sample.coords, 5, 30, 65, 100)(single_sample[\"land_sea_mask\"].data)[::-1, ...]\n",
    "fig, ax = plt.subplots(figsize=(16,10))\n",
    "# ax.imshow(selected_mask, extent=[0, 100-65, 0, 35-5])\n",
    "im = ax.imshow(selected_rain, cmap=\"Blues\", alpha=0.9, vmin=0, vmax=80)\n",
    "ax.invert_yaxis()\n",
    "fig.colorbar(im)\n",
    "np.max(selected_rain)"
   ]
  },
  {
   "cell_type": "code",
   "execution_count": 102,
   "metadata": {},
   "outputs": [],
   "source": [
    "import matplotlib\n",
    "\n",
    "cmap = matplotlib.colormaps[\"Blues\"]\n",
    "def svg_heat_map(values):\n",
    "    start_x = 65\n",
    "    start_y = 0\n",
    "    width = 50\n",
    "    height = 35\n",
    "    values = build_static_data_selector(inputs.coords, start_y, start_y+height, start_x, start_x+width)(values) * 1000\n",
    "    \n",
    "    def _to_hex_color(value):\n",
    "        vmin = 0\n",
    "        vmax = 63\n",
    "        r,g,b,a = cmap((value - vmin) / (vmax - vmin))\n",
    "        r = int(r * 255)\n",
    "        g = int(g * 255)\n",
    "        b = int(b * 255)\n",
    "        return f\"#{r:02x}{g:02x}{b:02x}\"\n",
    "\n",
    "    s = \"\"\n",
    "    for dx in range(width):\n",
    "        for dy in range(height):\n",
    "            value = values[dy][dx]\n",
    "            s += f'<rect width=\"1\" height=\"1\" x=\"{start_x+dx-0.5}\" y=\"{-(start_y+dy)-0.5}\" fill-opacity=\"{min(0.9, 0.9*(value/5))}\" fill=\"{_to_hex_color(value)}\" stroke=\"none\"/>'\n",
    "    return s"
   ]
  },
  {
   "cell_type": "code",
   "execution_count": 103,
   "metadata": {},
   "outputs": [],
   "source": [
    "NEWLINE = \"\\n\"\n",
    "with open(\"data/results/rain_case_study_before.svg\", \"w\") as f:\n",
    "    f.write(f'''<svg viewBox=\"82 -31 12 15\" xmlns=\"http://www.w3.org/2000/svg\" style=\"stroke-width: 0.2%\" clip-path=\"url(#clip)\">\n",
    "    <defs>\n",
    "        <clipPath id=\"clip\" clipPathUnits=\"userSpaceOnUse\">\n",
    "            <rect x=\"0\" y=\"0\" width=\"100%\" height=\"100%\" rx=\"1.1\" ry=\"1\"/>\n",
    "        </clipPath>\n",
    "    </defs>\n",
    "    {NEWLINE.join(all_paths)}\n",
    "    {svg_heat_map(unperturbed_rain)}\n",
    "    <rect x=\"82\" y=\"-31\" width=\"12\" height=\"15\" rx=\"1.1\" ry=\"1\" stroke=\"black\" fill=\"none\"/>\n",
    "</svg>''')"
   ]
  },
  {
   "cell_type": "code",
   "execution_count": 104,
   "metadata": {},
   "outputs": [],
   "source": [
    "NEWLINE = \"\\n\"\n",
    "with open(\"data/results/rain_case_study_after.svg\", \"w\") as f:\n",
    "    f.write(f'''<svg viewBox=\"82 -31 12 15\" xmlns=\"http://www.w3.org/2000/svg\" style=\"stroke-width: 0.2%\" clip-path=\"url(#clip)\">\n",
    "    <defs>\n",
    "        <clipPath id=\"clip\" clipPathUnits=\"userSpaceOnUse\">\n",
    "            <rect x=\"0\" y=\"0\" width=\"100%\" height=\"100%\" rx=\"1.1\" ry=\"1\"/>\n",
    "        </clipPath>\n",
    "    </defs>\n",
    "    {NEWLINE.join(all_paths)}\n",
    "    {svg_heat_map(perturbed_rain)}\n",
    "    <rect width=\"5\" height=\"6\" stroke=\"#555\" fill=\"none\" y=\"-26\" x=\"86\" stroke-dasharray=\"1%\"/>\n",
    "    <rect x=\"82\" y=\"-31\" width=\"12\" height=\"15\" rx=\"1.1\" ry=\"1\" stroke=\"black\" fill=\"none\"/>\n",
    "</svg>''')"
   ]
  }
 ],
 "metadata": {
  "kernelspec": {
   "display_name": "Python 3 (ipykernel)",
   "language": "python",
   "name": "python3"
  }
 },
 "nbformat": 4,
 "nbformat_minor": 2
}
