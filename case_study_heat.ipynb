{
 "cells": [
  {
   "cell_type": "code",
   "execution_count": 1,
   "metadata": {},
   "outputs": [],
   "source": [
    "import os\n",
    "os.environ[\"CUDA_VISIBLE_DEVICES\"] = \"2\""
   ]
  },
  {
   "cell_type": "code",
   "execution_count": 2,
   "metadata": {},
   "outputs": [],
   "source": [
    "import functools\n",
    "\n",
    "from datetime import timedelta\n",
    "\n",
    "import jax\n",
    "import xarray\n",
    "\n",
    "import numpy as np\n",
    "import jax.numpy as jnp\n",
    "\n",
    "from graphcast import xarray_jax\n",
    "\n",
    "from data_loading import load_data\n",
    "from model_running import (\n",
    "    multi_step_forward_jit, forward_fn_jitted, build_static_data_selector,\n",
    "    approx_forward_fn_jitted, task_config,\n",
    ")\n",
    "from attacks import add_perturbation, our_attack"
   ]
  },
  {
   "cell_type": "code",
   "execution_count": 3,
   "metadata": {},
   "outputs": [],
   "source": [
    "import json\n",
    "\n",
    "with open(\"data/geoBoundariesCGAZ_ADM0.geojson\", \"r\") as f:\n",
    "    boundary_data = json.load(f)"
   ]
  },
  {
   "cell_type": "code",
   "execution_count": 4,
   "metadata": {},
   "outputs": [],
   "source": [
    "def smooth(points):\n",
    "    new_points = [points[0]]\n",
    "    def distance(p1, p2):\n",
    "        return ((p1[0]-p2[0])**2 + (p1[1]-p2[1])**2)**0.5\n",
    "    for point in points[1:]:\n",
    "        if distance(point, new_points[-1]) < 0.2:\n",
    "            continue\n",
    "        new_points.append(point)\n",
    "    return new_points\n",
    "\n",
    "def to_svg_path(points):\n",
    "    assert len(points) > 1\n",
    "    s = f\"M{points[0][0]} {-points[0][1]}\"\n",
    "    for point in points[1:]:\n",
    "        s += f\" L{point[0]} {-point[1]}\"\n",
    "    s += \" Z\"\n",
    "    return f'<path d=\"{s}\" stroke=\"black\" fill=\"#eee\" fill-opacity=\"1.0\"/>'\n",
    "\n",
    "def filter_boundaries(feature):\n",
    "    def is_in_bounds(coord):\n",
    "        lon, lat = coord\n",
    "        if lat < 30 or lat > 60:\n",
    "            return False\n",
    "        if lon < -15 or lon > 40:\n",
    "            return False\n",
    "        return True\n",
    "    return list(filter(\n",
    "        lambda boundary: len(boundary) > 5 and any(is_in_bounds(coord) for coord in boundary),\n",
    "        (\n",
    "            smooth(boundary) if feature[\"geometry\"][\"type\"] == \"Polygon\" else smooth(boundary[0])\n",
    "            for boundary in feature[\"geometry\"][\"coordinates\"])\n",
    "    ))"
   ]
  },
  {
   "cell_type": "code",
   "execution_count": 5,
   "metadata": {},
   "outputs": [],
   "source": [
    "all_paths = sum(\n",
    "    (\n",
    "        list(\n",
    "            map(to_svg_path, filter_boundaries(boundaries)\n",
    "            )\n",
    "        )\n",
    "        for boundaries in boundary_data[\"features\"]\n",
    "    ), start=[]\n",
    ")"
   ]
  },
  {
   "cell_type": "code",
   "execution_count": 6,
   "metadata": {},
   "outputs": [],
   "source": [
    "def general_loss_fn(\n",
    "        rng,\n",
    "        inputs,\n",
    "        targets,\n",
    "        forcings,\n",
    "        forward_fn,\n",
    "        variable_selection_fn,\n",
    "        region_selection_fn,\n",
    "    ):\n",
    "    denoised_predictions = multi_step_forward_jit(\n",
    "        rng,\n",
    "        inputs,\n",
    "        targets,\n",
    "        forcings,\n",
    "        forward_fn\n",
    "    ).isel(time=-1)\n",
    "\n",
    "    # select target variable\n",
    "    target = variable_selection_fn(denoised_predictions)\n",
    "\n",
    "    # select target region\n",
    "    target = xarray_jax.unwrap_data(target, require_jax=True)\n",
    "    target = region_selection_fn(target)\n",
    "\n",
    "    loss = jnp.mean(target)\n",
    "    return loss\n",
    "\n",
    "# no jit, as it does not provide a speedup in this case\n",
    "precise_loss_fn = lambda rng, i, t, f, s, v: general_loss_fn(rng, i, t, f, forward_fn_jitted, v, s)\n",
    "\n",
    "def adv_grads_fn(rng, inputs, targets, forcings, approximation_steps, variable_selection_fn, region_selection_fn):\n",
    "    forward_fn = functools.partial(approx_forward_fn_jitted, approximation_steps=approximation_steps)\n",
    "    def _aux(rng, i, t, f):\n",
    "        loss = general_loss_fn(\n",
    "            rng, i, t, f,\n",
    "            forward_fn=forward_fn,\n",
    "            variable_selection_fn=variable_selection_fn,\n",
    "            region_selection_fn=region_selection_fn,\n",
    "        )\n",
    "        return loss\n",
    "\n",
    "    loss, grads = jax.value_and_grad(\n",
    "        _aux,\n",
    "        argnums=1,\n",
    "    )(rng, inputs, targets, forcings)\n",
    "    return loss, grads\n",
    "adv_grads_fn_jitted = jax.jit(adv_grads_fn, static_argnums=(4,5,6))"
   ]
  },
  {
   "cell_type": "code",
   "execution_count": 7,
   "metadata": {},
   "outputs": [],
   "source": [
    "era5 = xarray.open_zarr(\"gs://weatherbench2/datasets/era5/1959-2023_01_10-wb13-6h-1440x721_with_derived_variables.zarr\")"
   ]
  },
  {
   "cell_type": "code",
   "execution_count": 8,
   "metadata": {},
   "outputs": [],
   "source": [
    "era5 = era5.isel(time=slice(1, None, 2))"
   ]
  },
  {
   "cell_type": "code",
   "execution_count": 9,
   "metadata": {},
   "outputs": [],
   "source": [
    "single_sample = era5.isel(time=0).compute()\n",
    "single_sample = single_sample.rename_dims(dict(latitude=\"lat\", longitude=\"lon\"))\n",
    "single_sample = single_sample.rename_vars(dict(latitude=\"lat\", longitude=\"lon\"))\n",
    "single_sample = single_sample.isel(lat=slice(None, None, -1))"
   ]
  },
  {
   "cell_type": "code",
   "execution_count": 10,
   "metadata": {},
   "outputs": [],
   "source": [
    "inputs, targets, forcings = load_data(era5, \"2006-07-17T06:00:00\", task_config, lead_time=timedelta(days=2.5))"
   ]
  },
  {
   "cell_type": "code",
   "execution_count": 11,
   "metadata": {},
   "outputs": [],
   "source": [
    "import matplotlib.pyplot as plt"
   ]
  },
  {
   "cell_type": "code",
   "execution_count": 12,
   "metadata": {},
   "outputs": [
    {
     "data": {
      "text/plain": [
       "Array(34.51001, dtype=float32)"
      ]
     },
     "execution_count": 12,
     "metadata": {},
     "output_type": "execute_result"
    },
    {
     "data": {
      "image/png": "[encoded data removed]",
      "text/plain": [
       "<Figure size 1600x1000 with 2 Axes>"
      ]
     },
     "metadata": {},
     "output_type": "display_data"
    }
   ],
   "source": [
    "unperturbed_temp = targets[\"2m_temperature\"].isel(batch=0, time=-1).data\n",
    "selected_temp = build_static_data_selector(inputs.coords, 40, 62, -12, 14)(targets[\"2m_temperature\"].isel(batch=0, time=-1).data) - 273\n",
    "selected_mask = build_static_data_selector(single_sample.coords, 40, 62, -12, 14)(single_sample[\"land_sea_mask\"].data)[::-1, ...]\n",
    "fig, ax = plt.subplots(figsize=(16,10))\n",
    "# ax.imshow(selected_mask, extent=[0, 14+12, 0, 62-40])\n",
    "im = ax.imshow(selected_temp, cmap=\"coolwarm\", vmin=-10, vmax=35, alpha=0.9)\n",
    "ax.invert_yaxis()\n",
    "fig.colorbar(im)\n",
    "np.max(selected_temp)"
   ]
  },
  {
   "cell_type": "code",
   "execution_count": 13,
   "metadata": {},
   "outputs": [],
   "source": [
    "variable_selector = lambda x: x[\"2m_temperature\"]\n",
    "region_selection_fn = build_static_data_selector(inputs.coords, 48, 56, 6, 14)\n",
    "\n",
    "grads_fn = functools.partial(\n",
    "    adv_grads_fn_jitted,\n",
    "    region_selection_fn=region_selection_fn,\n",
    "    variable_selection_fn=variable_selector\n",
    ")"
   ]
  },
  {
   "cell_type": "code",
   "execution_count": 14,
   "metadata": {},
   "outputs": [
    {
     "name": "stderr",
     "output_type": "stream",
     "text": [
      "/usr/local/lib/python3.12/site-packages/scipy/sparse/_index.py:210: SparseEfficiencyWarning: Changing the sparsity structure of a csr_matrix is expensive. lil and dok are more efficient.\n",
      "  self._set_arrayXarray(i, j, x)\n",
      "/usr/local/lib/python3.12/site-packages/scipy/sparse/_index.py:210: SparseEfficiencyWarning: Changing the sparsity structure of a csr_matrix is expensive. lil and dok are more efficient.\n",
      "  self._set_arrayXarray(i, j, x)\n"
     ]
    },
    {
     "name": "stdout",
     "output_type": "stream",
     "text": [
      "0 299.10855\n",
      "1 295.49652\n",
      "2 291.54263\n",
      "3 294.87943\n",
      "4 289.37595\n",
      "5 294.22232\n",
      "6 294.04428\n",
      "7 288.7632\n",
      "8 288.46527\n",
      "9 293.53156\n",
      "10 293.74503\n",
      "11 286.90903\n",
      "12 288.32672\n",
      "13 292.25046\n",
      "14 286.2848\n",
      "15 286.38275\n",
      "16 285.6933\n",
      "17 284.51663\n",
      "18 286.15933\n",
      "19 284.6044\n",
      "20 286.95398\n",
      "21 284.92493\n",
      "22 284.43152\n",
      "23 294.27026\n",
      "24 285.25534\n",
      "25 283.60648\n",
      "26 283.3317\n",
      "27 282.65848\n",
      "28 283.9808\n",
      "29 285.35083\n",
      "30 296.39444\n",
      "31 282.74768\n",
      "32 284.4749\n",
      "33 295.77628\n",
      "34 283.2966\n",
      "35 293.68668\n",
      "36 284.15082\n",
      "37 283.44308\n",
      "38 295.06342\n",
      "39 281.9522\n",
      "40 283.22327\n",
      "41 284.58496\n",
      "42 284.1801\n",
      "43 295.86285\n",
      "44 282.90616\n",
      "45 294.01913\n",
      "46 295.4997\n",
      "47 294.91687\n",
      "48 283.07822\n",
      "49 294.05716\n"
     ]
    }
   ],
   "source": [
    "perturbation = our_attack(\n",
    "    inputs,\n",
    "    targets,\n",
    "    forcings,\n",
    "    0.07,\n",
    "    grads_fn,\n",
    "    maxiter=50,\n",
    "    do_log=True,\n",
    ")"
   ]
  },
  {
   "cell_type": "code",
   "execution_count": 15,
   "metadata": {},
   "outputs": [
    {
     "name": "stderr",
     "output_type": "stream",
     "text": [
      "/usr/local/lib/python3.12/site-packages/scipy/sparse/_index.py:210: SparseEfficiencyWarning: Changing the sparsity structure of a csr_matrix is expensive. lil and dok are more efficient.\n",
      "  self._set_arrayXarray(i, j, x)\n"
     ]
    }
   ],
   "source": [
    "denoised_predictions = multi_step_forward_jit(\n",
    "    jax.random.PRNGKey(1234567890),\n",
    "    add_perturbation(inputs, perturbation),\n",
    "    targets,\n",
    "    forcings,\n",
    "    forward_fn_jitted,\n",
    ")"
   ]
  },
  {
   "cell_type": "code",
   "execution_count": 16,
   "metadata": {},
   "outputs": [
    {
     "data": {
      "text/plain": [
       "Array(26.843384, dtype=float32)"
      ]
     },
     "execution_count": 16,
     "metadata": {},
     "output_type": "execute_result"
    },
    {
     "data": {
      "image/png": "[encoded data removed]",
      "text/plain": [
       "<Figure size 1600x1000 with 2 Axes>"
      ]
     },
     "metadata": {},
     "output_type": "display_data"
    }
   ],
   "source": [
    "perturbed_temp = xarray_jax.unwrap_data(denoised_predictions[\"2m_temperature\"].isel(time=-1, batch=0))\n",
    "selected_temp = build_static_data_selector(inputs.coords, 40, 62, -12, 14)(xarray_jax.unwrap_data(denoised_predictions[\"2m_temperature\"].isel(time=-1, batch=0))) - 273\n",
    "selected_mask = build_static_data_selector(single_sample.coords, 40, 62, -12, 14)(single_sample[\"land_sea_mask\"].data)[::-1, ...]\n",
    "fig, ax = plt.subplots(figsize=(16,10))\n",
    "# ax.imshow(selected_mask, extent=[0, 14+12, 0, 62-40])\n",
    "im = ax.imshow(selected_temp, cmap=\"coolwarm\", vmin=-15, vmax=35, alpha=0.9)\n",
    "ax.invert_yaxis()\n",
    "fig.colorbar(im)\n",
    "np.max(selected_temp)"
   ]
  },
  {
   "cell_type": "code",
   "execution_count": 18,
   "metadata": {},
   "outputs": [],
   "source": [
    "import matplotlib\n",
    "\n",
    "cmap = matplotlib.colormaps[\"coolwarm\"]\n",
    "def svg_heat_map(values):\n",
    "    start_x = -11\n",
    "    start_y = 40\n",
    "    width = 30\n",
    "    height = 30\n",
    "    values = build_static_data_selector(inputs.coords, start_y, start_y+height, start_x, start_x+width)(values) - 273\n",
    "    \n",
    "    def _to_hex_color(value):\n",
    "        vmin = -15\n",
    "        vmax = 35\n",
    "        r,g,b,a = cmap((value - vmin) / (vmax - vmin))\n",
    "        r = int(r * 255)\n",
    "        g = int(g * 255)\n",
    "        b = int(b * 255)\n",
    "        return f\"#{r:02x}{g:02x}{b:02x}\"\n",
    "\n",
    "    s = \"\"\n",
    "    for dx in range(width):\n",
    "        for dy in range(height):\n",
    "            value = values[dy][dx]\n",
    "            s += f'<rect width=\"1\" height=\"1\" x=\"{start_x+dx-0.5}\" y=\"{-(start_y+dy)-0.5}\" fill-opacity=\"0.8\" fill=\"{_to_hex_color(value)}\" stroke=\"none\"/>'\n",
    "    return s"
   ]
  },
  {
   "cell_type": "code",
   "execution_count": 21,
   "metadata": {},
   "outputs": [],
   "source": [
    "NEWLINE = \"\\n\"\n",
    "with open(\"data/results/heat_case_study_before.svg\", \"w\") as f:\n",
    "    f.write(f'''<svg viewBox=\"-10 -57 27 11\" xmlns=\"http://www.w3.org/2000/svg\" style=\"stroke-width: 0.2%\" clip-path=\"url(#clip)\">\n",
    "    <defs>\n",
    "        <clipPath id=\"clip\" clipPathUnits=\"userSpaceOnUse\">\n",
    "            <rect x=\"0\" y=\"0\" width=\"100%\" height=\"100%\" rx=\"1\" ry=\"0.64\"/>\n",
    "        </clipPath>\n",
    "    </defs>\n",
    "    {NEWLINE.join(all_paths)}\n",
    "    {svg_heat_map(unperturbed_temp)}\n",
    "    <rect x=\"-10\" y=\"-57\" width=\"27\" height=\"11\" rx=\"1\" ry=\"0.64\" stroke=\"black\" fill=\"none\"/>\n",
    "</svg>''')"
   ]
  },
  {
   "cell_type": "code",
   "execution_count": 22,
   "metadata": {},
   "outputs": [],
   "source": [
    "NEWLINE = \"\\n\"\n",
    "with open(\"data/results/heat_case_study_after.svg\", \"w\") as f:\n",
    "    f.write(f'''<svg viewBox=\"-10 -57 27 11\" xmlns=\"http://www.w3.org/2000/svg\" style=\"stroke-width: 0.2%\" clip-path=\"url(#clip)\">\n",
    "    <defs>\n",
    "        <clipPath id=\"clip\" clipPathUnits=\"userSpaceOnUse\">\n",
    "            <rect x=\"0\" y=\"0\" width=\"100%\" height=\"100%\" rx=\"1\" ry=\"0.64\"/>\n",
    "        </clipPath>\n",
    "    </defs>\n",
    "    {NEWLINE.join(all_paths)}\n",
    "    {svg_heat_map(perturbed_temp)}\n",
    "    <rect width=\"8\" height=\"8\" stroke=\"#555\" fill=\"none\" y=\"-56.5\" x=\"5.5\" stroke-dasharray=\"1%\"/>\n",
    "    <rect x=\"-10\" y=\"-57\" width=\"27\" height=\"11\" rx=\"1\" ry=\"0.64\" stroke=\"black\" fill=\"none\"/>\n",
    "</svg>''')"
   ]
  }
 ],
 "metadata": {
  "kernelspec": {
   "display_name": "Python 3 (ipykernel)",
   "language": "python",
   "name": "python3"
  }
 },
 "nbformat": 4,
 "nbformat_minor": 2
}
